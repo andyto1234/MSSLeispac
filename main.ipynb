{
 "cells": [
  {
   "cell_type": "code",
   "execution_count": 3,
   "id": "built-stability",
   "metadata": {},
   "outputs": [],
   "source": [
    "import eispac"
   ]
  },
  {
   "cell_type": "code",
   "execution_count": 8,
   "id": "dramatic-outside",
   "metadata": {},
   "outputs": [],
   "source": [
    "data_filename = 'eis_20210306_064444.data.h5'"
   ]
  },
  {
   "cell_type": "code",
   "execution_count": 10,
   "id": "expanded-standing",
   "metadata": {},
   "outputs": [],
   "source": [
    "header_filename = 'eis_20210306_064444.head.h5'"
   ]
  },
  {
   "cell_type": "code",
   "execution_count": 12,
   "id": "protecting-woman",
   "metadata": {},
   "outputs": [],
   "source": [
    "wininfo = eispac.read_wininfo(header_filename)"
   ]
  },
  {
   "cell_type": "code",
   "execution_count": 13,
   "id": "labeled-wheat",
   "metadata": {},
   "outputs": [
    {
     "data": {
      "text/plain": [
       "rec.array([(0, 'Ca XV 181.900', 181.6399 , 182.15277, 24,  733),\n",
       "           (1, 'Fe XII 186.750', 186.3891 , 187.0802 , 32,  946),\n",
       "           (2, 'Fe XII 192.410', 192.14012, 192.65274, 24, 1204),\n",
       "           (3, 'Ar XIV 194.200', 193.74477, 194.61389, 40, 1276),\n",
       "           (4, 'Ca XV 201.000', 200.65211, 201.34271, 32, 1586),\n",
       "           (5, 'Fe XVII 254.950', 254.5872 , 255.27747, 32, 2588),\n",
       "           (6, 'S XIII 256.950', 256.50208, 257.3704 , 40, 2674),\n",
       "           (7, 'Fe XXIII 263.300', 262.75748, 263.80353, 48, 2955),\n",
       "           (8, 'Fe XIV 270.510', 270.23447, 270.74615, 24, 3291)],\n",
       "          dtype=[('iwin', '<i4'), ('line_id', '<U64'), ('wvl_min', '<f4'), ('wvl_max', '<f4'), ('nl', '<i4'), ('xs', '<i4')])"
      ]
     },
     "execution_count": 13,
     "metadata": {},
     "output_type": "execute_result"
    }
   ],
   "source": [
    "wininfo"
   ]
  },
  {
   "cell_type": "code",
   "execution_count": 15,
   "id": "decent-chamber",
   "metadata": {},
   "outputs": [],
   "source": [
    "tmplt_filename = 'fe_12_195_119.2c.template.h5'"
   ]
  },
  {
   "cell_type": "code",
   "execution_count": 16,
   "id": "digital-fields",
   "metadata": {},
   "outputs": [
    {
     "name": "stderr",
     "output_type": "stream",
     "text": [
      "Error: Template file does not exist, /Users/ato/scripts/python_code/MSSLeispac/fe_12_195_119.2c.template.h5\n"
     ]
    }
   ],
   "source": [
    "tmplt = eispac.read_template(tmplt_filename)"
   ]
  },
  {
   "cell_type": "code",
   "execution_count": null,
   "id": "early-music",
   "metadata": {},
   "outputs": [],
   "source": []
  }
 ],
 "metadata": {
  "kernelspec": {
   "display_name": "Python 3",
   "language": "python",
   "name": "python3"
  },
  "language_info": {
   "codemirror_mode": {
    "name": "ipython",
    "version": 3
   },
   "file_extension": ".py",
   "mimetype": "text/x-python",
   "name": "python",
   "nbconvert_exporter": "python",
   "pygments_lexer": "ipython3",
   "version": "3.7.3"
  }
 },
 "nbformat": 4,
 "nbformat_minor": 5
}
